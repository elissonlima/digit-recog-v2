{
  "nbformat": 4,
  "nbformat_minor": 0,
  "metadata": {
    "colab": {
      "name": "digit_recognizer_v2.ipynb",
      "provenance": [],
      "mount_file_id": "1QjU8t-FdrKlYkSqwbumPql9b30yLA3XT",
      "authorship_tag": "ABX9TyMIK8pQXSnc1mX1JYJiFu0E",
      "include_colab_link": true
    },
    "kernelspec": {
      "name": "python3",
      "display_name": "Python 3"
    }
  },
  "cells": [
    {
      "cell_type": "markdown",
      "metadata": {
        "id": "view-in-github",
        "colab_type": "text"
      },
      "source": [
        "<a href=\"https://colab.research.google.com/github/elissonlima/digit-recog-v2/blob/master/digit_recognizer_v2.ipynb\" target=\"_parent\"><img src=\"https://colab.research.google.com/assets/colab-badge.svg\" alt=\"Open In Colab\"/></a>"
      ]
    },
    {
      "cell_type": "markdown",
      "metadata": {
        "id": "Z76bCwQDLKCW",
        "colab_type": "text"
      },
      "source": [
        "# MNIST Digit Classifier v2"
      ]
    },
    {
      "cell_type": "code",
      "metadata": {
        "id": "ykiPk_DwLPqW",
        "colab_type": "code",
        "colab": {}
      },
      "source": [
        ""
      ],
      "execution_count": null,
      "outputs": []
    }
  ]
}