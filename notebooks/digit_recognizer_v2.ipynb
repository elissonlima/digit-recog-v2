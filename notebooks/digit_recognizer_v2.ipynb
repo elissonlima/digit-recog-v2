{
  "nbformat": 4,
  "nbformat_minor": 0,
  "metadata": {
    "colab": {
      "name": "digit_recognizer_v2.ipynb",
      "provenance": [],
      "collapsed_sections": [],
      "mount_file_id": "1QjU8t-FdrKlYkSqwbumPql9b30yLA3XT",
      "authorship_tag": "ABX9TyP/NScJJUwjAQ28guJlBdLg",
      "include_colab_link": true
    },
    "kernelspec": {
      "name": "python3",
      "display_name": "Python 3"
    }
  },
  "cells": [
    {
      "cell_type": "markdown",
      "metadata": {
        "id": "view-in-github",
        "colab_type": "text"
      },
      "source": [
        "<a href=\"https://colab.research.google.com/github/elissonlima/digit-recog-v2/blob/master/notebooks/digit_recognizer_v2.ipynb\" target=\"_parent\"><img src=\"https://colab.research.google.com/assets/colab-badge.svg\" alt=\"Open In Colab\"/></a>"
      ]
    },
    {
      "cell_type": "markdown",
      "metadata": {
        "id": "Z76bCwQDLKCW",
        "colab_type": "text"
      },
      "source": [
        "# MNIST Digit Classifier v2"
      ]
    },
    {
      "cell_type": "code",
      "metadata": {
        "id": "ykiPk_DwLPqW",
        "colab_type": "code",
        "colab": {}
      },
      "source": [
        "import cv2\n",
        "import numpy as np\n",
        "import os"
      ],
      "execution_count": null,
      "outputs": []
    },
    {
      "cell_type": "markdown",
      "metadata": {
        "id": "jN8yU7OJMFAJ",
        "colab_type": "text"
      },
      "source": [
        "Importing database."
      ]
    },
    {
      "cell_type": "code",
      "metadata": {
        "id": "b2hvigaGMI-9",
        "colab_type": "code",
        "colab": {}
      },
      "source": [
        "DATABASE_DRIVE_PATH = '/content/drive/My Drive/databases/MNIST_Digit'\n",
        "TRAIN_DATABASE = os.path.join(DATABASE_DRIVE_PATH, 'train.csv')\n",
        "TEST_DATABASE = os.path.join(DATABASE_DRIVE_PATH, 'test.csv')\n",
        "\n"
      ],
      "execution_count": null,
      "outputs": []
    }
  ]
}